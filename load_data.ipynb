{
 "cells": [
  {
   "cell_type": "code",
   "execution_count": 2,
   "id": "84b5d9bc",
   "metadata": {},
   "outputs": [],
   "source": [
    "import findspark\n",
    "findspark.init()"
   ]
  },
  {
   "cell_type": "code",
   "execution_count": 6,
   "id": "3b273f8b",
   "metadata": {},
   "outputs": [],
   "source": [
    "import pyspark\n",
    "from pyspark.sql import SparkSession"
   ]
  },
  {
   "cell_type": "code",
   "execution_count": 8,
   "id": "5d461e81",
   "metadata": {},
   "outputs": [
    {
     "name": "stderr",
     "output_type": "stream",
     "text": [
      "Setting default log level to \"WARN\".\n",
      "To adjust logging level use sc.setLogLevel(newLevel). For SparkR, use setLogLevel(newLevel).\n",
      "23/07/05 23:51:16 WARN NativeCodeLoader: Unable to load native-hadoop library for your platform... using builtin-java classes where applicable\n",
      "23/07/05 23:51:32 WARN GarbageCollectionMetrics: To enable non-built-in garbage collector(s) List(G1 Concurrent GC), users should configure it(them) to spark.eventLog.gcMetrics.youngGenerationGarbageCollectors or spark.eventLog.gcMetrics.oldGenerationGarbageCollectors\n"
     ]
    }
   ],
   "source": [
    "spark = SparkSession.builder \\\n",
    ".master('local') \\\n",
    ".appName('read_sensor_data') \\\n",
    ".config('spark.jars.packages\", \"com.crealytics:spark-excel_2.11:0.12.2') \\\n",
    ".getOrCreate()"
   ]
  },
  {
   "cell_type": "code",
   "execution_count": null,
   "id": "36b5fc42",
   "metadata": {},
   "outputs": [],
   "source": [
    "# sensor 1 - xlsx"
   ]
  },
  {
   "cell_type": "code",
   "execution_count": null,
   "id": "ce11d965",
   "metadata": {},
   "outputs": [],
   "source": [
    "# sensor 2 - csv"
   ]
  },
  {
   "cell_type": "code",
   "execution_count": null,
   "id": "6491d225",
   "metadata": {},
   "outputs": [],
   "source": [
    "# sensor 4 - parquet"
   ]
  },
  {
   "cell_type": "code",
   "execution_count": null,
   "id": "ed366db7",
   "metadata": {},
   "outputs": [],
   "source": [
    "# sensor 4 diff date - pickle"
   ]
  },
  {
   "cell_type": "code",
   "execution_count": null,
   "id": "aa4657a0",
   "metadata": {},
   "outputs": [],
   "source": [
    "# sensor 5 - json"
   ]
  }
 ],
 "metadata": {
  "kernelspec": {
   "display_name": "venv",
   "language": "python",
   "name": "venv"
  },
  "language_info": {
   "codemirror_mode": {
    "name": "ipython",
    "version": 3
   },
   "file_extension": ".py",
   "mimetype": "text/x-python",
   "name": "python",
   "nbconvert_exporter": "python",
   "pygments_lexer": "ipython3",
   "version": "3.9.13"
  }
 },
 "nbformat": 4,
 "nbformat_minor": 5
}
