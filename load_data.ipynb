{
 "cells": [
  {
   "cell_type": "code",
   "execution_count": null,
   "id": "84b5d9bc",
   "metadata": {},
   "outputs": [],
   "source": [
    "# import findspark\n",
    "# findspark.init()\n",
    "\n",
    "# import pyspark\n",
    "# from pyspark.sql import SparkSession"
   ]
  },
  {
   "cell_type": "code",
   "execution_count": null,
   "id": "5d461e81",
   "metadata": {},
   "outputs": [],
   "source": [
    "# spark = SparkSession.builder \\\n",
    "# .master('local') \\\n",
    "# .appName('read_sensor_data') \\\n",
    "# .config('spark.jars.packages\", \"com.crealytics:spark-excel_2.11:0.12.2') \\\n",
    "# .getOrCreate()"
   ]
  },
  {
   "cell_type": "code",
   "execution_count": 1,
   "id": "aaf5449f",
   "metadata": {},
   "outputs": [],
   "source": [
    "import pandas as pd"
   ]
  },
  {
   "cell_type": "code",
   "execution_count": 2,
   "id": "71579489",
   "metadata": {},
   "outputs": [],
   "source": [
    "sensor1_file = 'data_engineer_test/sensor_1.xlsx'\n",
    "sensor2_file = 'data_engineer_test/sensor_2.csv'\n",
    "sensor4_file = 'data_engineer_test/sensor_4.parquet'\n",
    "sensor4_dd_file = 'data_engineer_test/sensor_4_diff_date.pickle'\n",
    "sensor5_file = 'data_engineer_test/sensor_5.json'"
   ]
  },
  {
   "cell_type": "code",
   "execution_count": 3,
   "id": "1b2b2504",
   "metadata": {},
   "outputs": [],
   "source": [
    "df = pd.DataFrame()"
   ]
  },
  {
   "cell_type": "code",
   "execution_count": 4,
   "id": "36b5fc42",
   "metadata": {},
   "outputs": [
    {
     "name": "stdout",
     "output_type": "stream",
     "text": [
      "(6530, 4)\n"
     ]
    }
   ],
   "source": [
    "# sensor 1 - xlsx\n",
    "s1_pd = pd.read_excel(sensor1_file)\n",
    "print(s1_pd.shape)\n",
    "\n",
    "# # s1 pyspark\n",
    "# s1_sp = spark.createDataFrame(s1_pd)"
   ]
  },
  {
   "cell_type": "code",
   "execution_count": 5,
   "id": "ce11d965",
   "metadata": {},
   "outputs": [
    {
     "name": "stdout",
     "output_type": "stream",
     "text": [
      "(7076, 4)\n"
     ]
    }
   ],
   "source": [
    "# sensor 2 - csv\n",
    "s2_pd = pd.read_csv(sensor2_file)\n",
    "print(s2_pd.shape)"
   ]
  },
  {
   "cell_type": "code",
   "execution_count": 6,
   "id": "6491d225",
   "metadata": {},
   "outputs": [
    {
     "name": "stdout",
     "output_type": "stream",
     "text": [
      "(715, 4)\n"
     ]
    }
   ],
   "source": [
    "# sensor 4 - parquet\n",
    "s4_pd = pd.read_parquet(sensor4_file)\n",
    "print(s4_pd.shape)"
   ]
  },
  {
   "cell_type": "code",
   "execution_count": 7,
   "id": "ed366db7",
   "metadata": {},
   "outputs": [
    {
     "name": "stdout",
     "output_type": "stream",
     "text": [
      "(4551, 4)\n"
     ]
    }
   ],
   "source": [
    "# sensor 4 diff date - pickle\n",
    "s4_dd_pd = pd.read_pickle(sensor4_dd_file)\n",
    "print(s4_dd_pd.shape)"
   ]
  },
  {
   "cell_type": "code",
   "execution_count": 8,
   "id": "aa4657a0",
   "metadata": {},
   "outputs": [
    {
     "name": "stdout",
     "output_type": "stream",
     "text": [
      "(7185, 4)\n"
     ]
    }
   ],
   "source": [
    "# sensor 5 - json\n",
    "s5_pd = pd.read_json(sensor5_file, orient='index')\n",
    "print(s5_pd.shape)"
   ]
  },
  {
   "cell_type": "code",
   "execution_count": 9,
   "id": "51203d68",
   "metadata": {},
   "outputs": [
    {
     "name": "stdout",
     "output_type": "stream",
     "text": [
      "(26057, 4)\n"
     ]
    }
   ],
   "source": [
    "df = pd.concat([s1_pd, s2_pd, s4_pd, s4_dd_pd, s5_pd])\n",
    "print(df.shape)"
   ]
  },
  {
   "cell_type": "code",
   "execution_count": 10,
   "id": "a0965ec0",
   "metadata": {},
   "outputs": [
    {
     "name": "stderr",
     "output_type": "stream",
     "text": [
      "/var/folders/pd/kpj3vxxs34nf_nxz3l8kbb6r0000gn/T/ipykernel_8625/1597808014.py:2: SettingWithCopyWarning: \n",
      "A value is trying to be set on a copy of a slice from a DataFrame.\n",
      "Try using .loc[row_indexer,col_indexer] = value instead\n",
      "\n",
      "See the caveats in the documentation: https://pandas.pydata.org/pandas-docs/stable/user_guide/indexing.html#returning-a-view-versus-a-copy\n",
      "  df_good['created_timestamp'] = pd.to_datetime(df_good['created_timestamp'])\n"
     ]
    },
    {
     "data": {
      "text/html": [
       "<div>\n",
       "<style scoped>\n",
       "    .dataframe tbody tr th:only-of-type {\n",
       "        vertical-align: middle;\n",
       "    }\n",
       "\n",
       "    .dataframe tbody tr th {\n",
       "        vertical-align: top;\n",
       "    }\n",
       "\n",
       "    .dataframe thead th {\n",
       "        text-align: right;\n",
       "    }\n",
       "</style>\n",
       "<table border=\"1\" class=\"dataframe\">\n",
       "  <thead>\n",
       "    <tr style=\"text-align: right;\">\n",
       "      <th></th>\n",
       "      <th>created_timestamp</th>\n",
       "      <th>tag_key</th>\n",
       "      <th>tag_val</th>\n",
       "      <th>tag_quality</th>\n",
       "    </tr>\n",
       "  </thead>\n",
       "  <tbody>\n",
       "    <tr>\n",
       "      <th>0</th>\n",
       "      <td>2021-07-05 00:00:24.987000+00:00</td>\n",
       "      <td>sens_1</td>\n",
       "      <td>31.0</td>\n",
       "      <td>Good</td>\n",
       "    </tr>\n",
       "    <tr>\n",
       "      <th>1</th>\n",
       "      <td>2021-07-05 00:00:27.833000+00:00</td>\n",
       "      <td>sens_1</td>\n",
       "      <td>29.0</td>\n",
       "      <td>Good</td>\n",
       "    </tr>\n",
       "    <tr>\n",
       "      <th>2</th>\n",
       "      <td>2021-07-05 00:01:17.633000+00:00</td>\n",
       "      <td>sens_1</td>\n",
       "      <td>31.0</td>\n",
       "      <td>Good</td>\n",
       "    </tr>\n",
       "    <tr>\n",
       "      <th>3</th>\n",
       "      <td>2021-07-05 00:01:25.107000+00:00</td>\n",
       "      <td>sens_1</td>\n",
       "      <td>29.0</td>\n",
       "      <td>Good</td>\n",
       "    </tr>\n",
       "    <tr>\n",
       "      <th>5</th>\n",
       "      <td>2021-07-05 00:04:44.929000+00:00</td>\n",
       "      <td>sens_1</td>\n",
       "      <td>29.0</td>\n",
       "      <td>Good</td>\n",
       "    </tr>\n",
       "    <tr>\n",
       "      <th>...</th>\n",
       "      <td>...</td>\n",
       "      <td>...</td>\n",
       "      <td>...</td>\n",
       "      <td>...</td>\n",
       "    </tr>\n",
       "    <tr>\n",
       "      <th>7180</th>\n",
       "      <td>2021-06-08 23:59:23.932000+00:00</td>\n",
       "      <td>sens_5</td>\n",
       "      <td>32.0</td>\n",
       "      <td>Good</td>\n",
       "    </tr>\n",
       "    <tr>\n",
       "      <th>7181</th>\n",
       "      <td>2021-06-08 23:59:31.043000+00:00</td>\n",
       "      <td>sens_5</td>\n",
       "      <td>33.0</td>\n",
       "      <td>Good</td>\n",
       "    </tr>\n",
       "    <tr>\n",
       "      <th>7182</th>\n",
       "      <td>2021-06-08 23:59:33.890000+00:00</td>\n",
       "      <td>sens_5</td>\n",
       "      <td>32.0</td>\n",
       "      <td>Good</td>\n",
       "    </tr>\n",
       "    <tr>\n",
       "      <th>7183</th>\n",
       "      <td>2021-06-08 23:59:44.273000+00:00</td>\n",
       "      <td>sens_5</td>\n",
       "      <td>33.0</td>\n",
       "      <td>Good</td>\n",
       "    </tr>\n",
       "    <tr>\n",
       "      <th>7184</th>\n",
       "      <td>2021-06-08 23:59:48.766000+00:00</td>\n",
       "      <td>sens_5</td>\n",
       "      <td>32.0</td>\n",
       "      <td>Good</td>\n",
       "    </tr>\n",
       "  </tbody>\n",
       "</table>\n",
       "<p>25996 rows × 4 columns</p>\n",
       "</div>"
      ],
      "text/plain": [
       "                    created_timestamp tag_key  tag_val tag_quality\n",
       "0    2021-07-05 00:00:24.987000+00:00  sens_1     31.0        Good\n",
       "1    2021-07-05 00:00:27.833000+00:00  sens_1     29.0        Good\n",
       "2    2021-07-05 00:01:17.633000+00:00  sens_1     31.0        Good\n",
       "3    2021-07-05 00:01:25.107000+00:00  sens_1     29.0        Good\n",
       "5    2021-07-05 00:04:44.929000+00:00  sens_1     29.0        Good\n",
       "...                               ...     ...      ...         ...\n",
       "7180 2021-06-08 23:59:23.932000+00:00  sens_5     32.0        Good\n",
       "7181 2021-06-08 23:59:31.043000+00:00  sens_5     33.0        Good\n",
       "7182 2021-06-08 23:59:33.890000+00:00  sens_5     32.0        Good\n",
       "7183 2021-06-08 23:59:44.273000+00:00  sens_5     33.0        Good\n",
       "7184 2021-06-08 23:59:48.766000+00:00  sens_5     32.0        Good\n",
       "\n",
       "[25996 rows x 4 columns]"
      ]
     },
     "execution_count": 10,
     "metadata": {},
     "output_type": "execute_result"
    }
   ],
   "source": [
    "df_good = df[df['tag_quality']=='Good']\n",
    "df_good['created_timestamp'] = pd.to_datetime(df_good['created_timestamp'])\n",
    "df_good"
   ]
  },
  {
   "cell_type": "code",
   "execution_count": 38,
   "id": "03048637",
   "metadata": {},
   "outputs": [
    {
     "data": {
      "text/html": [
       "<div>\n",
       "<style scoped>\n",
       "    .dataframe tbody tr th:only-of-type {\n",
       "        vertical-align: middle;\n",
       "    }\n",
       "\n",
       "    .dataframe tbody tr th {\n",
       "        vertical-align: top;\n",
       "    }\n",
       "\n",
       "    .dataframe thead th {\n",
       "        text-align: right;\n",
       "    }\n",
       "</style>\n",
       "<table border=\"1\" class=\"dataframe\">\n",
       "  <thead>\n",
       "    <tr style=\"text-align: right;\">\n",
       "      <th>tag_key</th>\n",
       "      <th>sens_1</th>\n",
       "      <th>sens_2</th>\n",
       "      <th>sens_4</th>\n",
       "      <th>sens_5</th>\n",
       "    </tr>\n",
       "    <tr>\n",
       "      <th>created_timestamp</th>\n",
       "      <th></th>\n",
       "      <th></th>\n",
       "      <th></th>\n",
       "      <th></th>\n",
       "    </tr>\n",
       "  </thead>\n",
       "  <tbody>\n",
       "    <tr>\n",
       "      <th>2021-06-08 00:00:20.201000+00:00</th>\n",
       "      <td>NaN</td>\n",
       "      <td>NaN</td>\n",
       "      <td>NaN</td>\n",
       "      <td>45.0</td>\n",
       "    </tr>\n",
       "    <tr>\n",
       "      <th>2021-06-08 00:00:24.469000+00:00</th>\n",
       "      <td>NaN</td>\n",
       "      <td>NaN</td>\n",
       "      <td>NaN</td>\n",
       "      <td>46.0</td>\n",
       "    </tr>\n",
       "    <tr>\n",
       "      <th>2021-06-08 00:01:05.046000+00:00</th>\n",
       "      <td>NaN</td>\n",
       "      <td>NaN</td>\n",
       "      <td>NaN</td>\n",
       "      <td>45.0</td>\n",
       "    </tr>\n",
       "    <tr>\n",
       "      <th>2021-06-08 00:01:19.484000+00:00</th>\n",
       "      <td>NaN</td>\n",
       "      <td>NaN</td>\n",
       "      <td>NaN</td>\n",
       "      <td>46.0</td>\n",
       "    </tr>\n",
       "    <tr>\n",
       "      <th>2021-06-08 00:01:26.833000+00:00</th>\n",
       "      <td>NaN</td>\n",
       "      <td>NaN</td>\n",
       "      <td>NaN</td>\n",
       "      <td>45.0</td>\n",
       "    </tr>\n",
       "    <tr>\n",
       "      <th>...</th>\n",
       "      <td>...</td>\n",
       "      <td>...</td>\n",
       "      <td>...</td>\n",
       "      <td>...</td>\n",
       "    </tr>\n",
       "    <tr>\n",
       "      <th>2021-08-15 02:23:47.042000+00:00</th>\n",
       "      <td>NaN</td>\n",
       "      <td>NaN</td>\n",
       "      <td>0.0</td>\n",
       "      <td>NaN</td>\n",
       "    </tr>\n",
       "    <tr>\n",
       "      <th>2021-08-15 02:23:49.790000+00:00</th>\n",
       "      <td>NaN</td>\n",
       "      <td>NaN</td>\n",
       "      <td>1.0</td>\n",
       "      <td>NaN</td>\n",
       "    </tr>\n",
       "    <tr>\n",
       "      <th>2021-08-15 02:23:53.729000+00:00</th>\n",
       "      <td>NaN</td>\n",
       "      <td>NaN</td>\n",
       "      <td>0.0</td>\n",
       "      <td>NaN</td>\n",
       "    </tr>\n",
       "    <tr>\n",
       "      <th>2021-08-15 02:30:29.242000+00:00</th>\n",
       "      <td>NaN</td>\n",
       "      <td>NaN</td>\n",
       "      <td>12.0</td>\n",
       "      <td>NaN</td>\n",
       "    </tr>\n",
       "    <tr>\n",
       "      <th>2021-08-15 02:30:42.913000+00:00</th>\n",
       "      <td>NaN</td>\n",
       "      <td>NaN</td>\n",
       "      <td>0.0</td>\n",
       "      <td>NaN</td>\n",
       "    </tr>\n",
       "  </tbody>\n",
       "</table>\n",
       "<p>24820 rows × 4 columns</p>\n",
       "</div>"
      ],
      "text/plain": [
       "tag_key                           sens_1  sens_2  sens_4  sens_5\n",
       "created_timestamp                                               \n",
       "2021-06-08 00:00:20.201000+00:00     NaN     NaN     NaN    45.0\n",
       "2021-06-08 00:00:24.469000+00:00     NaN     NaN     NaN    46.0\n",
       "2021-06-08 00:01:05.046000+00:00     NaN     NaN     NaN    45.0\n",
       "2021-06-08 00:01:19.484000+00:00     NaN     NaN     NaN    46.0\n",
       "2021-06-08 00:01:26.833000+00:00     NaN     NaN     NaN    45.0\n",
       "...                                  ...     ...     ...     ...\n",
       "2021-08-15 02:23:47.042000+00:00     NaN     NaN     0.0     NaN\n",
       "2021-08-15 02:23:49.790000+00:00     NaN     NaN     1.0     NaN\n",
       "2021-08-15 02:23:53.729000+00:00     NaN     NaN     0.0     NaN\n",
       "2021-08-15 02:30:29.242000+00:00     NaN     NaN    12.0     NaN\n",
       "2021-08-15 02:30:42.913000+00:00     NaN     NaN     0.0     NaN\n",
       "\n",
       "[24820 rows x 4 columns]"
      ]
     },
     "execution_count": 38,
     "metadata": {},
     "output_type": "execute_result"
    }
   ],
   "source": [
    "df_pivoted = pd.pivot_table(df_good, values='tag_val', index='created_timestamp', columns='tag_key')\n",
    "df_pivoted = df_pivoted.sort_index(axis=0)\n",
    "df_pivoted"
   ]
  },
  {
   "cell_type": "code",
   "execution_count": 39,
   "id": "482b69b6",
   "metadata": {},
   "outputs": [
    {
     "data": {
      "text/html": [
       "<div>\n",
       "<style scoped>\n",
       "    .dataframe tbody tr th:only-of-type {\n",
       "        vertical-align: middle;\n",
       "    }\n",
       "\n",
       "    .dataframe tbody tr th {\n",
       "        vertical-align: top;\n",
       "    }\n",
       "\n",
       "    .dataframe thead th {\n",
       "        text-align: right;\n",
       "    }\n",
       "</style>\n",
       "<table border=\"1\" class=\"dataframe\">\n",
       "  <thead>\n",
       "    <tr style=\"text-align: right;\">\n",
       "      <th>tag_key</th>\n",
       "      <th>sens_1</th>\n",
       "      <th>sens_2</th>\n",
       "      <th>sens_4</th>\n",
       "      <th>sens_5</th>\n",
       "    </tr>\n",
       "    <tr>\n",
       "      <th>created_timestamp</th>\n",
       "      <th></th>\n",
       "      <th></th>\n",
       "      <th></th>\n",
       "      <th></th>\n",
       "    </tr>\n",
       "  </thead>\n",
       "  <tbody>\n",
       "    <tr>\n",
       "      <th>2021-06-08 00:00:20.201000+00:00</th>\n",
       "      <td>NaN</td>\n",
       "      <td>NaN</td>\n",
       "      <td>NaN</td>\n",
       "      <td>45.0</td>\n",
       "    </tr>\n",
       "    <tr>\n",
       "      <th>2021-06-08 00:00:24.469000+00:00</th>\n",
       "      <td>NaN</td>\n",
       "      <td>NaN</td>\n",
       "      <td>NaN</td>\n",
       "      <td>46.0</td>\n",
       "    </tr>\n",
       "    <tr>\n",
       "      <th>2021-06-08 00:01:05.046000+00:00</th>\n",
       "      <td>NaN</td>\n",
       "      <td>NaN</td>\n",
       "      <td>NaN</td>\n",
       "      <td>45.0</td>\n",
       "    </tr>\n",
       "    <tr>\n",
       "      <th>2021-06-08 00:01:19.484000+00:00</th>\n",
       "      <td>NaN</td>\n",
       "      <td>NaN</td>\n",
       "      <td>NaN</td>\n",
       "      <td>46.0</td>\n",
       "    </tr>\n",
       "    <tr>\n",
       "      <th>2021-06-08 00:01:26.833000+00:00</th>\n",
       "      <td>NaN</td>\n",
       "      <td>NaN</td>\n",
       "      <td>NaN</td>\n",
       "      <td>45.0</td>\n",
       "    </tr>\n",
       "    <tr>\n",
       "      <th>...</th>\n",
       "      <td>...</td>\n",
       "      <td>...</td>\n",
       "      <td>...</td>\n",
       "      <td>...</td>\n",
       "    </tr>\n",
       "    <tr>\n",
       "      <th>2021-08-15 02:23:47.042000+00:00</th>\n",
       "      <td>371.0</td>\n",
       "      <td>420.0</td>\n",
       "      <td>0.0</td>\n",
       "      <td>32.0</td>\n",
       "    </tr>\n",
       "    <tr>\n",
       "      <th>2021-08-15 02:23:49.790000+00:00</th>\n",
       "      <td>371.0</td>\n",
       "      <td>420.0</td>\n",
       "      <td>1.0</td>\n",
       "      <td>32.0</td>\n",
       "    </tr>\n",
       "    <tr>\n",
       "      <th>2021-08-15 02:23:53.729000+00:00</th>\n",
       "      <td>371.0</td>\n",
       "      <td>420.0</td>\n",
       "      <td>0.0</td>\n",
       "      <td>32.0</td>\n",
       "    </tr>\n",
       "    <tr>\n",
       "      <th>2021-08-15 02:30:29.242000+00:00</th>\n",
       "      <td>371.0</td>\n",
       "      <td>420.0</td>\n",
       "      <td>12.0</td>\n",
       "      <td>32.0</td>\n",
       "    </tr>\n",
       "    <tr>\n",
       "      <th>2021-08-15 02:30:42.913000+00:00</th>\n",
       "      <td>371.0</td>\n",
       "      <td>420.0</td>\n",
       "      <td>0.0</td>\n",
       "      <td>32.0</td>\n",
       "    </tr>\n",
       "  </tbody>\n",
       "</table>\n",
       "<p>24820 rows × 4 columns</p>\n",
       "</div>"
      ],
      "text/plain": [
       "tag_key                           sens_1  sens_2  sens_4  sens_5\n",
       "created_timestamp                                               \n",
       "2021-06-08 00:00:20.201000+00:00     NaN     NaN     NaN    45.0\n",
       "2021-06-08 00:00:24.469000+00:00     NaN     NaN     NaN    46.0\n",
       "2021-06-08 00:01:05.046000+00:00     NaN     NaN     NaN    45.0\n",
       "2021-06-08 00:01:19.484000+00:00     NaN     NaN     NaN    46.0\n",
       "2021-06-08 00:01:26.833000+00:00     NaN     NaN     NaN    45.0\n",
       "...                                  ...     ...     ...     ...\n",
       "2021-08-15 02:23:47.042000+00:00   371.0   420.0     0.0    32.0\n",
       "2021-08-15 02:23:49.790000+00:00   371.0   420.0     1.0    32.0\n",
       "2021-08-15 02:23:53.729000+00:00   371.0   420.0     0.0    32.0\n",
       "2021-08-15 02:30:29.242000+00:00   371.0   420.0    12.0    32.0\n",
       "2021-08-15 02:30:42.913000+00:00   371.0   420.0     0.0    32.0\n",
       "\n",
       "[24820 rows x 4 columns]"
      ]
     },
     "execution_count": 39,
     "metadata": {},
     "output_type": "execute_result"
    }
   ],
   "source": [
    "df_ffill = df_pivoted.fillna(method='ffill')\n",
    "df_ffill"
   ]
  },
  {
   "cell_type": "code",
   "execution_count": 40,
   "id": "158abcd6",
   "metadata": {},
   "outputs": [],
   "source": [
    "df_norm = df_ffill.copy()\n",
    "for col in df_ffill.columns:\n",
    "    df_norm[col] = (df_ffill[col]-df_ffill[col].min())/(df_ffill[col].max()-df_ffill[col].min())\n",
    "#     df_ffill[col+'_norm'] = (df_ffill[col]-df_ffill[col].min())/(df_ffill[col].max()-df_ffill[col].min())"
   ]
  },
  {
   "cell_type": "code",
   "execution_count": 45,
   "id": "e7c5c5b3",
   "metadata": {},
   "outputs": [
    {
     "data": {
      "text/plain": [
       "Timestamp('2021-06-08 00:00:20.201000+0000', tz='UTC')"
      ]
     },
     "execution_count": 45,
     "metadata": {},
     "output_type": "execute_result"
    }
   ],
   "source": [
    "df_norm.index.min()"
   ]
  },
  {
   "cell_type": "code",
   "execution_count": 52,
   "id": "d52472f5",
   "metadata": {},
   "outputs": [
    {
     "data": {
      "text/html": [
       "<div>\n",
       "<style scoped>\n",
       "    .dataframe tbody tr th:only-of-type {\n",
       "        vertical-align: middle;\n",
       "    }\n",
       "\n",
       "    .dataframe tbody tr th {\n",
       "        vertical-align: top;\n",
       "    }\n",
       "\n",
       "    .dataframe thead th {\n",
       "        text-align: right;\n",
       "    }\n",
       "</style>\n",
       "<table border=\"1\" class=\"dataframe\">\n",
       "  <thead>\n",
       "    <tr style=\"text-align: right;\">\n",
       "      <th>tag_key</th>\n",
       "      <th>sens_1</th>\n",
       "      <th>sens_2</th>\n",
       "      <th>sens_4</th>\n",
       "      <th>sens_5</th>\n",
       "    </tr>\n",
       "    <tr>\n",
       "      <th>created_timestamp</th>\n",
       "      <th></th>\n",
       "      <th></th>\n",
       "      <th></th>\n",
       "      <th></th>\n",
       "    </tr>\n",
       "  </thead>\n",
       "  <tbody>\n",
       "    <tr>\n",
       "      <th>2021-07-05 00:00:24.987000+00:00</th>\n",
       "      <td>0.004651</td>\n",
       "      <td>0.047619</td>\n",
       "      <td>NaN</td>\n",
       "      <td>0.004301</td>\n",
       "    </tr>\n",
       "    <tr>\n",
       "      <th>2021-07-05 00:00:27.833000+00:00</th>\n",
       "      <td>0.000000</td>\n",
       "      <td>0.045549</td>\n",
       "      <td>NaN</td>\n",
       "      <td>0.004301</td>\n",
       "    </tr>\n",
       "    <tr>\n",
       "      <th>2021-07-05 00:00:30.792000+00:00</th>\n",
       "      <td>0.000000</td>\n",
       "      <td>0.047619</td>\n",
       "      <td>NaN</td>\n",
       "      <td>0.004301</td>\n",
       "    </tr>\n",
       "    <tr>\n",
       "      <th>2021-07-05 00:00:45.338000+00:00</th>\n",
       "      <td>0.000000</td>\n",
       "      <td>0.045549</td>\n",
       "      <td>NaN</td>\n",
       "      <td>0.004301</td>\n",
       "    </tr>\n",
       "    <tr>\n",
       "      <th>2021-07-05 00:00:48.289000+00:00</th>\n",
       "      <td>0.000000</td>\n",
       "      <td>0.047619</td>\n",
       "      <td>NaN</td>\n",
       "      <td>0.004301</td>\n",
       "    </tr>\n",
       "    <tr>\n",
       "      <th>...</th>\n",
       "      <td>...</td>\n",
       "      <td>...</td>\n",
       "      <td>...</td>\n",
       "      <td>...</td>\n",
       "    </tr>\n",
       "    <tr>\n",
       "      <th>2021-08-15 02:23:47.042000+00:00</th>\n",
       "      <td>0.795349</td>\n",
       "      <td>0.797101</td>\n",
       "      <td>0.000000</td>\n",
       "      <td>0.004301</td>\n",
       "    </tr>\n",
       "    <tr>\n",
       "      <th>2021-08-15 02:23:49.790000+00:00</th>\n",
       "      <td>0.795349</td>\n",
       "      <td>0.797101</td>\n",
       "      <td>0.017544</td>\n",
       "      <td>0.004301</td>\n",
       "    </tr>\n",
       "    <tr>\n",
       "      <th>2021-08-15 02:23:53.729000+00:00</th>\n",
       "      <td>0.795349</td>\n",
       "      <td>0.797101</td>\n",
       "      <td>0.000000</td>\n",
       "      <td>0.004301</td>\n",
       "    </tr>\n",
       "    <tr>\n",
       "      <th>2021-08-15 02:30:29.242000+00:00</th>\n",
       "      <td>0.795349</td>\n",
       "      <td>0.797101</td>\n",
       "      <td>0.210526</td>\n",
       "      <td>0.004301</td>\n",
       "    </tr>\n",
       "    <tr>\n",
       "      <th>2021-08-15 02:30:42.913000+00:00</th>\n",
       "      <td>0.795349</td>\n",
       "      <td>0.797101</td>\n",
       "      <td>0.000000</td>\n",
       "      <td>0.004301</td>\n",
       "    </tr>\n",
       "  </tbody>\n",
       "</table>\n",
       "<p>17647 rows × 4 columns</p>\n",
       "</div>"
      ],
      "text/plain": [
       "tag_key                             sens_1    sens_2    sens_4    sens_5\n",
       "created_timestamp                                                       \n",
       "2021-07-05 00:00:24.987000+00:00  0.004651  0.047619       NaN  0.004301\n",
       "2021-07-05 00:00:27.833000+00:00  0.000000  0.045549       NaN  0.004301\n",
       "2021-07-05 00:00:30.792000+00:00  0.000000  0.047619       NaN  0.004301\n",
       "2021-07-05 00:00:45.338000+00:00  0.000000  0.045549       NaN  0.004301\n",
       "2021-07-05 00:00:48.289000+00:00  0.000000  0.047619       NaN  0.004301\n",
       "...                                    ...       ...       ...       ...\n",
       "2021-08-15 02:23:47.042000+00:00  0.795349  0.797101  0.000000  0.004301\n",
       "2021-08-15 02:23:49.790000+00:00  0.795349  0.797101  0.017544  0.004301\n",
       "2021-08-15 02:23:53.729000+00:00  0.795349  0.797101  0.000000  0.004301\n",
       "2021-08-15 02:30:29.242000+00:00  0.795349  0.797101  0.210526  0.004301\n",
       "2021-08-15 02:30:42.913000+00:00  0.795349  0.797101  0.000000  0.004301\n",
       "\n",
       "[17647 rows x 4 columns]"
      ]
     },
     "execution_count": 52,
     "metadata": {},
     "output_type": "execute_result"
    }
   ],
   "source": [
    "df_norm[~df_norm['sens_1'].isnull()]"
   ]
  },
  {
   "cell_type": "code",
   "execution_count": 54,
   "id": "7235d6fc",
   "metadata": {
    "scrolled": false
   },
   "outputs": [
    {
     "data": {
      "text/html": [
       "\n",
       "        <iframe\n",
       "            width=\"100%\"\n",
       "            height=\"650\"\n",
       "            src=\"http://127.0.0.1:8050/\"\n",
       "            frameborder=\"0\"\n",
       "            allowfullscreen\n",
       "            \n",
       "        ></iframe>\n",
       "        "
      ],
      "text/plain": [
       "<IPython.lib.display.IFrame at 0x7fd558d8daf0>"
      ]
     },
     "metadata": {},
     "output_type": "display_data"
    }
   ],
   "source": [
    "from dash import Dash, html, dcc, callback, Output, Input\n",
    "import plotly.express as px\n",
    "\n",
    "app = Dash(__name__)\n",
    "\n",
    "df = df_norm\n",
    "sensor_info = {'Sensor 1': 'sens_1',\n",
    "              'Sensor 2': 'sens_2',\n",
    "              'Sensor 4': 'sens_4',\n",
    "              'Sensor 5': 'sens_5',}\n",
    "\n",
    "sensor_list = list(sensor_info.keys())\n",
    "\n",
    "app.layout = html.Div([\n",
    "    html.H1(children='Normalised Sensor Data Visualisation', style={'textAlign':'center'}),\n",
    "    dcc.Dropdown(sensor_list, sensor_list[0], id='dropdown-selection'),\n",
    "    dcc.Graph(id='graph-content')\n",
    "])\n",
    "\n",
    "@callback(\n",
    "    Output('graph-content', 'figure'),\n",
    "    Input('dropdown-selection', 'value')\n",
    ")\n",
    "\n",
    "def update_graph(sensor):\n",
    "    sensor_tag = sensor_info[sensor]\n",
    "    dff = df[[sensor_tag]]\n",
    "#     dff = dff[~dff[sensor_tag].isnull()]\n",
    "    \n",
    "    fig = px.line(dff,\n",
    "                  x=dff.index,\n",
    "                  y=sensor_tag,\n",
    "                  labels={'created_timestamp':'Created Timestamp',\n",
    "                            sensor_tag: sensor})\n",
    "    fig.update_xaxes(range=[dff.index.min(), dff.index.max()])\n",
    "\n",
    "    return fig\n",
    "\n",
    "\n",
    "if __name__ == '__main__':\n",
    "    app.run(debug=True)"
   ]
  },
  {
   "cell_type": "code",
   "execution_count": null,
   "id": "ba373019",
   "metadata": {},
   "outputs": [],
   "source": []
  }
 ],
 "metadata": {
  "kernelspec": {
   "display_name": "venv",
   "language": "python",
   "name": "venv"
  },
  "language_info": {
   "codemirror_mode": {
    "name": "ipython",
    "version": 3
   },
   "file_extension": ".py",
   "mimetype": "text/x-python",
   "name": "python",
   "nbconvert_exporter": "python",
   "pygments_lexer": "ipython3",
   "version": "3.9.13"
  }
 },
 "nbformat": 4,
 "nbformat_minor": 5
}
